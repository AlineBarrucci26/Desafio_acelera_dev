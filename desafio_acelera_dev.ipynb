{
  "nbformat": 4,
  "nbformat_minor": 0,
  "metadata": {
    "kernelspec": {
      "display_name": "Python 3",
      "language": "python",
      "name": "python3"
    },
    "language_info": {
      "codemirror_mode": {
        "name": "ipython",
        "version": 3
      },
      "file_extension": ".py",
      "mimetype": "text/x-python",
      "name": "python",
      "nbconvert_exporter": "python",
      "pygments_lexer": "ipython3",
      "version": "3.8.5"
    },
    "colab": {
      "name": "desafio_acelera_dev.ipynb",
      "provenance": [],
      "include_colab_link": true
    }
  },
  "cells": [
    {
      "cell_type": "markdown",
      "metadata": {
        "id": "view-in-github",
        "colab_type": "text"
      },
      "source": [
        "<a href=\"https://colab.research.google.com/github/AlineBarrucci26/Desafio_acelera_dev/blob/main/desafio_acelera_dev.ipynb\" target=\"_parent\"><img src=\"https://colab.research.google.com/assets/colab-badge.svg\" alt=\"Open In Colab\"/></a>"
      ]
    },
    {
      "cell_type": "code",
      "metadata": {
        "id": "5TpCacctydxZ"
      },
      "source": [
        "import pandas as pd\n",
        "import numpy as np\n",
        "import matplotlib.pyplot as plt\n",
        "import seaborn as sns\n",
        "from sklearn.svm import LinearSVR\n",
        "from sklearn.metrics import mean_squared_error\n",
        "from sklearn.tree import DecisionTreeRegressor"
      ],
      "execution_count": null,
      "outputs": []
    },
    {
      "cell_type": "code",
      "metadata": {
        "id": "ncKyomSLydxk"
      },
      "source": [
        "df_train = pd.read_csv('train.csv')\n",
        "df_test = pd.read_csv('test.csv')"
      ],
      "execution_count": null,
      "outputs": []
    },
    {
      "cell_type": "code",
      "metadata": {
        "id": "tDcKbZDbydxl",
        "outputId": "1db54566-7895-4ff7-b07a-26132a0bd1a1"
      },
      "source": [
        "df_train.head()"
      ],
      "execution_count": null,
      "outputs": [
        {
          "output_type": "execute_result",
          "data": {
            "text/html": [
              "<div>\n",
              "<style scoped>\n",
              "    .dataframe tbody tr th:only-of-type {\n",
              "        vertical-align: middle;\n",
              "    }\n",
              "\n",
              "    .dataframe tbody tr th {\n",
              "        vertical-align: top;\n",
              "    }\n",
              "\n",
              "    .dataframe thead th {\n",
              "        text-align: right;\n",
              "    }\n",
              "</style>\n",
              "<table border=\"1\" class=\"dataframe\">\n",
              "  <thead>\n",
              "    <tr style=\"text-align: right;\">\n",
              "      <th></th>\n",
              "      <th>Unnamed: 0</th>\n",
              "      <th>NU_INSCRICAO</th>\n",
              "      <th>NU_ANO</th>\n",
              "      <th>CO_MUNICIPIO_RESIDENCIA</th>\n",
              "      <th>NO_MUNICIPIO_RESIDENCIA</th>\n",
              "      <th>CO_UF_RESIDENCIA</th>\n",
              "      <th>SG_UF_RESIDENCIA</th>\n",
              "      <th>NU_IDADE</th>\n",
              "      <th>TP_SEXO</th>\n",
              "      <th>TP_ESTADO_CIVIL</th>\n",
              "      <th>...</th>\n",
              "      <th>Q041</th>\n",
              "      <th>Q042</th>\n",
              "      <th>Q043</th>\n",
              "      <th>Q044</th>\n",
              "      <th>Q045</th>\n",
              "      <th>Q046</th>\n",
              "      <th>Q047</th>\n",
              "      <th>Q048</th>\n",
              "      <th>Q049</th>\n",
              "      <th>Q050</th>\n",
              "    </tr>\n",
              "  </thead>\n",
              "  <tbody>\n",
              "    <tr>\n",
              "      <th>0</th>\n",
              "      <td>1</td>\n",
              "      <td>ed50e8aaa58e7a806c337585efee9ca41f1eb1ad</td>\n",
              "      <td>2016</td>\n",
              "      <td>4314902</td>\n",
              "      <td>Porto Alegre</td>\n",
              "      <td>43</td>\n",
              "      <td>RS</td>\n",
              "      <td>24</td>\n",
              "      <td>M</td>\n",
              "      <td>0.0</td>\n",
              "      <td>...</td>\n",
              "      <td>5.0</td>\n",
              "      <td>A</td>\n",
              "      <td>A</td>\n",
              "      <td>A</td>\n",
              "      <td>A</td>\n",
              "      <td>A</td>\n",
              "      <td>A</td>\n",
              "      <td>A</td>\n",
              "      <td>B</td>\n",
              "      <td>D</td>\n",
              "    </tr>\n",
              "    <tr>\n",
              "      <th>1</th>\n",
              "      <td>2</td>\n",
              "      <td>2c3acac4b33ec2b195d77e7c04a2d75727fad723</td>\n",
              "      <td>2016</td>\n",
              "      <td>2304707</td>\n",
              "      <td>Granja</td>\n",
              "      <td>23</td>\n",
              "      <td>CE</td>\n",
              "      <td>17</td>\n",
              "      <td>F</td>\n",
              "      <td>0.0</td>\n",
              "      <td>...</td>\n",
              "      <td>NaN</td>\n",
              "      <td>A</td>\n",
              "      <td>A</td>\n",
              "      <td>C</td>\n",
              "      <td>A</td>\n",
              "      <td>B</td>\n",
              "      <td>A</td>\n",
              "      <td>A</td>\n",
              "      <td>C</td>\n",
              "      <td>A</td>\n",
              "    </tr>\n",
              "    <tr>\n",
              "      <th>2</th>\n",
              "      <td>3</td>\n",
              "      <td>f4545f8ccb9ff5c8aad7d32951b3f251a26e6568</td>\n",
              "      <td>2016</td>\n",
              "      <td>2304400</td>\n",
              "      <td>Fortaleza</td>\n",
              "      <td>23</td>\n",
              "      <td>CE</td>\n",
              "      <td>21</td>\n",
              "      <td>F</td>\n",
              "      <td>0.0</td>\n",
              "      <td>...</td>\n",
              "      <td>NaN</td>\n",
              "      <td>A</td>\n",
              "      <td>A</td>\n",
              "      <td>A</td>\n",
              "      <td>A</td>\n",
              "      <td>C</td>\n",
              "      <td>A</td>\n",
              "      <td>A</td>\n",
              "      <td>B</td>\n",
              "      <td>A</td>\n",
              "    </tr>\n",
              "    <tr>\n",
              "      <th>3</th>\n",
              "      <td>4</td>\n",
              "      <td>3d6ec248fef899c414e77f82d5c6d2bffbeaf7fe</td>\n",
              "      <td>2016</td>\n",
              "      <td>3304557</td>\n",
              "      <td>Rio de Janeiro</td>\n",
              "      <td>33</td>\n",
              "      <td>RJ</td>\n",
              "      <td>25</td>\n",
              "      <td>F</td>\n",
              "      <td>0.0</td>\n",
              "      <td>...</td>\n",
              "      <td>5.0</td>\n",
              "      <td>C</td>\n",
              "      <td>A</td>\n",
              "      <td>A</td>\n",
              "      <td>A</td>\n",
              "      <td>A</td>\n",
              "      <td>D</td>\n",
              "      <td>A</td>\n",
              "      <td>A</td>\n",
              "      <td>A</td>\n",
              "    </tr>\n",
              "    <tr>\n",
              "      <th>4</th>\n",
              "      <td>5</td>\n",
              "      <td>bf896ac8d3ecadd6dba1dfbf50110afcbf5d3268</td>\n",
              "      <td>2016</td>\n",
              "      <td>1302603</td>\n",
              "      <td>Manaus</td>\n",
              "      <td>13</td>\n",
              "      <td>AM</td>\n",
              "      <td>28</td>\n",
              "      <td>M</td>\n",
              "      <td>0.0</td>\n",
              "      <td>...</td>\n",
              "      <td>NaN</td>\n",
              "      <td>A</td>\n",
              "      <td>A</td>\n",
              "      <td>A</td>\n",
              "      <td>A</td>\n",
              "      <td>A</td>\n",
              "      <td>A</td>\n",
              "      <td>A</td>\n",
              "      <td>A</td>\n",
              "      <td>A</td>\n",
              "    </tr>\n",
              "  </tbody>\n",
              "</table>\n",
              "<p>5 rows × 167 columns</p>\n",
              "</div>"
            ],
            "text/plain": [
              "   Unnamed: 0                              NU_INSCRICAO  NU_ANO  \\\n",
              "0           1  ed50e8aaa58e7a806c337585efee9ca41f1eb1ad    2016   \n",
              "1           2  2c3acac4b33ec2b195d77e7c04a2d75727fad723    2016   \n",
              "2           3  f4545f8ccb9ff5c8aad7d32951b3f251a26e6568    2016   \n",
              "3           4  3d6ec248fef899c414e77f82d5c6d2bffbeaf7fe    2016   \n",
              "4           5  bf896ac8d3ecadd6dba1dfbf50110afcbf5d3268    2016   \n",
              "\n",
              "   CO_MUNICIPIO_RESIDENCIA NO_MUNICIPIO_RESIDENCIA  CO_UF_RESIDENCIA  \\\n",
              "0                  4314902            Porto Alegre                43   \n",
              "1                  2304707                  Granja                23   \n",
              "2                  2304400               Fortaleza                23   \n",
              "3                  3304557          Rio de Janeiro                33   \n",
              "4                  1302603                  Manaus                13   \n",
              "\n",
              "  SG_UF_RESIDENCIA  NU_IDADE TP_SEXO  TP_ESTADO_CIVIL  ...  Q041  Q042  Q043  \\\n",
              "0               RS        24       M              0.0  ...   5.0     A     A   \n",
              "1               CE        17       F              0.0  ...   NaN     A     A   \n",
              "2               CE        21       F              0.0  ...   NaN     A     A   \n",
              "3               RJ        25       F              0.0  ...   5.0     C     A   \n",
              "4               AM        28       M              0.0  ...   NaN     A     A   \n",
              "\n",
              "  Q044  Q045 Q046  Q047  Q048  Q049  Q050  \n",
              "0    A     A    A     A     A     B     D  \n",
              "1    C     A    B     A     A     C     A  \n",
              "2    A     A    C     A     A     B     A  \n",
              "3    A     A    A     D     A     A     A  \n",
              "4    A     A    A     A     A     A     A  \n",
              "\n",
              "[5 rows x 167 columns]"
            ]
          },
          "metadata": {
            "tags": []
          },
          "execution_count": 3
        }
      ]
    },
    {
      "cell_type": "code",
      "metadata": {
        "id": "Jk0AErx8ydxn",
        "outputId": "a420d915-d4f0-4804-c818-6edff30b5c33"
      },
      "source": [
        "df_train.columns"
      ],
      "execution_count": null,
      "outputs": [
        {
          "output_type": "execute_result",
          "data": {
            "text/plain": [
              "Index(['Unnamed: 0', 'NU_INSCRICAO', 'NU_ANO', 'CO_MUNICIPIO_RESIDENCIA',\n",
              "       'NO_MUNICIPIO_RESIDENCIA', 'CO_UF_RESIDENCIA', 'SG_UF_RESIDENCIA',\n",
              "       'NU_IDADE', 'TP_SEXO', 'TP_ESTADO_CIVIL',\n",
              "       ...\n",
              "       'Q041', 'Q042', 'Q043', 'Q044', 'Q045', 'Q046', 'Q047', 'Q048', 'Q049',\n",
              "       'Q050'],\n",
              "      dtype='object', length=167)"
            ]
          },
          "metadata": {
            "tags": []
          },
          "execution_count": 4
        }
      ]
    },
    {
      "cell_type": "code",
      "metadata": {
        "id": "Gy4U4rf4ydxn",
        "outputId": "b0fe75c0-fecc-4fc1-e477-9710e78a3310"
      },
      "source": [
        "df_train.describe()"
      ],
      "execution_count": null,
      "outputs": [
        {
          "output_type": "execute_result",
          "data": {
            "text/html": [
              "<div>\n",
              "<style scoped>\n",
              "    .dataframe tbody tr th:only-of-type {\n",
              "        vertical-align: middle;\n",
              "    }\n",
              "\n",
              "    .dataframe tbody tr th {\n",
              "        vertical-align: top;\n",
              "    }\n",
              "\n",
              "    .dataframe thead th {\n",
              "        text-align: right;\n",
              "    }\n",
              "</style>\n",
              "<table border=\"1\" class=\"dataframe\">\n",
              "  <thead>\n",
              "    <tr style=\"text-align: right;\">\n",
              "      <th></th>\n",
              "      <th>Unnamed: 0</th>\n",
              "      <th>NU_ANO</th>\n",
              "      <th>CO_MUNICIPIO_RESIDENCIA</th>\n",
              "      <th>CO_UF_RESIDENCIA</th>\n",
              "      <th>NU_IDADE</th>\n",
              "      <th>TP_ESTADO_CIVIL</th>\n",
              "      <th>TP_COR_RACA</th>\n",
              "      <th>TP_NACIONALIDADE</th>\n",
              "      <th>CO_MUNICIPIO_NASCIMENTO</th>\n",
              "      <th>CO_UF_NASCIMENTO</th>\n",
              "      <th>...</th>\n",
              "      <th>Q032</th>\n",
              "      <th>Q033</th>\n",
              "      <th>Q034</th>\n",
              "      <th>Q035</th>\n",
              "      <th>Q036</th>\n",
              "      <th>Q037</th>\n",
              "      <th>Q038</th>\n",
              "      <th>Q039</th>\n",
              "      <th>Q040</th>\n",
              "      <th>Q041</th>\n",
              "    </tr>\n",
              "  </thead>\n",
              "  <tbody>\n",
              "    <tr>\n",
              "      <th>count</th>\n",
              "      <td>13730.000000</td>\n",
              "      <td>13730.0</td>\n",
              "      <td>1.373000e+04</td>\n",
              "      <td>13730.000000</td>\n",
              "      <td>13730.000000</td>\n",
              "      <td>13202.000000</td>\n",
              "      <td>13730.000000</td>\n",
              "      <td>13730.000000</td>\n",
              "      <td>1.312100e+04</td>\n",
              "      <td>13121.000000</td>\n",
              "      <td>...</td>\n",
              "      <td>6354.000000</td>\n",
              "      <td>6354.000000</td>\n",
              "      <td>13730.000000</td>\n",
              "      <td>13730.000000</td>\n",
              "      <td>13730.000000</td>\n",
              "      <td>13730.000000</td>\n",
              "      <td>13730.000000</td>\n",
              "      <td>13730.000000</td>\n",
              "      <td>13730.000000</td>\n",
              "      <td>2938.000000</td>\n",
              "    </tr>\n",
              "    <tr>\n",
              "      <th>mean</th>\n",
              "      <td>2288.173926</td>\n",
              "      <td>2016.0</td>\n",
              "      <td>3.088548e+06</td>\n",
              "      <td>30.736708</td>\n",
              "      <td>21.593809</td>\n",
              "      <td>0.116043</td>\n",
              "      <td>2.185652</td>\n",
              "      <td>1.048871</td>\n",
              "      <td>3.057946e+06</td>\n",
              "      <td>30.429159</td>\n",
              "      <td>...</td>\n",
              "      <td>4.530217</td>\n",
              "      <td>3.962858</td>\n",
              "      <td>4.645594</td>\n",
              "      <td>4.678441</td>\n",
              "      <td>3.341515</td>\n",
              "      <td>4.458995</td>\n",
              "      <td>3.724618</td>\n",
              "      <td>3.506409</td>\n",
              "      <td>4.442098</td>\n",
              "      <td>3.671545</td>\n",
              "    </tr>\n",
              "    <tr>\n",
              "      <th>std</th>\n",
              "      <td>1321.230607</td>\n",
              "      <td>0.0</td>\n",
              "      <td>9.890495e+05</td>\n",
              "      <td>9.862405</td>\n",
              "      <td>7.043654</td>\n",
              "      <td>0.365986</td>\n",
              "      <td>1.007285</td>\n",
              "      <td>0.258895</td>\n",
              "      <td>9.703020e+05</td>\n",
              "      <td>9.670030</td>\n",
              "      <td>...</td>\n",
              "      <td>1.027613</td>\n",
              "      <td>1.625356</td>\n",
              "      <td>0.920998</td>\n",
              "      <td>0.865039</td>\n",
              "      <td>1.711930</td>\n",
              "      <td>1.200172</td>\n",
              "      <td>1.689362</td>\n",
              "      <td>1.718858</td>\n",
              "      <td>1.181549</td>\n",
              "      <td>1.746444</td>\n",
              "    </tr>\n",
              "    <tr>\n",
              "      <th>min</th>\n",
              "      <td>0.000000</td>\n",
              "      <td>2016.0</td>\n",
              "      <td>1.100023e+06</td>\n",
              "      <td>11.000000</td>\n",
              "      <td>13.000000</td>\n",
              "      <td>0.000000</td>\n",
              "      <td>0.000000</td>\n",
              "      <td>0.000000</td>\n",
              "      <td>1.100023e+06</td>\n",
              "      <td>11.000000</td>\n",
              "      <td>...</td>\n",
              "      <td>0.000000</td>\n",
              "      <td>0.000000</td>\n",
              "      <td>0.000000</td>\n",
              "      <td>0.000000</td>\n",
              "      <td>0.000000</td>\n",
              "      <td>0.000000</td>\n",
              "      <td>0.000000</td>\n",
              "      <td>0.000000</td>\n",
              "      <td>0.000000</td>\n",
              "      <td>0.000000</td>\n",
              "    </tr>\n",
              "    <tr>\n",
              "      <th>25%</th>\n",
              "      <td>1144.000000</td>\n",
              "      <td>2016.0</td>\n",
              "      <td>2.307650e+06</td>\n",
              "      <td>23.000000</td>\n",
              "      <td>17.000000</td>\n",
              "      <td>0.000000</td>\n",
              "      <td>1.000000</td>\n",
              "      <td>1.000000</td>\n",
              "      <td>2.306900e+06</td>\n",
              "      <td>23.000000</td>\n",
              "      <td>...</td>\n",
              "      <td>5.000000</td>\n",
              "      <td>3.000000</td>\n",
              "      <td>5.000000</td>\n",
              "      <td>5.000000</td>\n",
              "      <td>2.000000</td>\n",
              "      <td>5.000000</td>\n",
              "      <td>3.000000</td>\n",
              "      <td>2.000000</td>\n",
              "      <td>4.000000</td>\n",
              "      <td>3.000000</td>\n",
              "    </tr>\n",
              "    <tr>\n",
              "      <th>50%</th>\n",
              "      <td>2288.000000</td>\n",
              "      <td>2016.0</td>\n",
              "      <td>3.118601e+06</td>\n",
              "      <td>31.000000</td>\n",
              "      <td>19.000000</td>\n",
              "      <td>0.000000</td>\n",
              "      <td>3.000000</td>\n",
              "      <td>1.000000</td>\n",
              "      <td>3.106200e+06</td>\n",
              "      <td>31.000000</td>\n",
              "      <td>...</td>\n",
              "      <td>5.000000</td>\n",
              "      <td>5.000000</td>\n",
              "      <td>5.000000</td>\n",
              "      <td>5.000000</td>\n",
              "      <td>4.000000</td>\n",
              "      <td>5.000000</td>\n",
              "      <td>5.000000</td>\n",
              "      <td>4.000000</td>\n",
              "      <td>5.000000</td>\n",
              "      <td>5.000000</td>\n",
              "    </tr>\n",
              "    <tr>\n",
              "      <th>75%</th>\n",
              "      <td>3432.000000</td>\n",
              "      <td>2016.0</td>\n",
              "      <td>3.550308e+06</td>\n",
              "      <td>35.000000</td>\n",
              "      <td>23.000000</td>\n",
              "      <td>0.000000</td>\n",
              "      <td>3.000000</td>\n",
              "      <td>1.000000</td>\n",
              "      <td>3.549805e+06</td>\n",
              "      <td>35.000000</td>\n",
              "      <td>...</td>\n",
              "      <td>5.000000</td>\n",
              "      <td>5.000000</td>\n",
              "      <td>5.000000</td>\n",
              "      <td>5.000000</td>\n",
              "      <td>5.000000</td>\n",
              "      <td>5.000000</td>\n",
              "      <td>5.000000</td>\n",
              "      <td>5.000000</td>\n",
              "      <td>5.000000</td>\n",
              "      <td>5.000000</td>\n",
              "    </tr>\n",
              "    <tr>\n",
              "      <th>max</th>\n",
              "      <td>4586.000000</td>\n",
              "      <td>2016.0</td>\n",
              "      <td>5.300108e+06</td>\n",
              "      <td>53.000000</td>\n",
              "      <td>67.000000</td>\n",
              "      <td>3.000000</td>\n",
              "      <td>5.000000</td>\n",
              "      <td>4.000000</td>\n",
              "      <td>5.300108e+06</td>\n",
              "      <td>53.000000</td>\n",
              "      <td>...</td>\n",
              "      <td>5.000000</td>\n",
              "      <td>5.000000</td>\n",
              "      <td>5.000000</td>\n",
              "      <td>5.000000</td>\n",
              "      <td>5.000000</td>\n",
              "      <td>5.000000</td>\n",
              "      <td>5.000000</td>\n",
              "      <td>5.000000</td>\n",
              "      <td>5.000000</td>\n",
              "      <td>5.000000</td>\n",
              "    </tr>\n",
              "  </tbody>\n",
              "</table>\n",
              "<p>8 rows × 107 columns</p>\n",
              "</div>"
            ],
            "text/plain": [
              "         Unnamed: 0   NU_ANO  CO_MUNICIPIO_RESIDENCIA  CO_UF_RESIDENCIA  \\\n",
              "count  13730.000000  13730.0             1.373000e+04      13730.000000   \n",
              "mean    2288.173926   2016.0             3.088548e+06         30.736708   \n",
              "std     1321.230607      0.0             9.890495e+05          9.862405   \n",
              "min        0.000000   2016.0             1.100023e+06         11.000000   \n",
              "25%     1144.000000   2016.0             2.307650e+06         23.000000   \n",
              "50%     2288.000000   2016.0             3.118601e+06         31.000000   \n",
              "75%     3432.000000   2016.0             3.550308e+06         35.000000   \n",
              "max     4586.000000   2016.0             5.300108e+06         53.000000   \n",
              "\n",
              "           NU_IDADE  TP_ESTADO_CIVIL   TP_COR_RACA  TP_NACIONALIDADE  \\\n",
              "count  13730.000000     13202.000000  13730.000000      13730.000000   \n",
              "mean      21.593809         0.116043      2.185652          1.048871   \n",
              "std        7.043654         0.365986      1.007285          0.258895   \n",
              "min       13.000000         0.000000      0.000000          0.000000   \n",
              "25%       17.000000         0.000000      1.000000          1.000000   \n",
              "50%       19.000000         0.000000      3.000000          1.000000   \n",
              "75%       23.000000         0.000000      3.000000          1.000000   \n",
              "max       67.000000         3.000000      5.000000          4.000000   \n",
              "\n",
              "       CO_MUNICIPIO_NASCIMENTO  CO_UF_NASCIMENTO  ...         Q032  \\\n",
              "count             1.312100e+04      13121.000000  ...  6354.000000   \n",
              "mean              3.057946e+06         30.429159  ...     4.530217   \n",
              "std               9.703020e+05          9.670030  ...     1.027613   \n",
              "min               1.100023e+06         11.000000  ...     0.000000   \n",
              "25%               2.306900e+06         23.000000  ...     5.000000   \n",
              "50%               3.106200e+06         31.000000  ...     5.000000   \n",
              "75%               3.549805e+06         35.000000  ...     5.000000   \n",
              "max               5.300108e+06         53.000000  ...     5.000000   \n",
              "\n",
              "              Q033          Q034          Q035          Q036          Q037  \\\n",
              "count  6354.000000  13730.000000  13730.000000  13730.000000  13730.000000   \n",
              "mean      3.962858      4.645594      4.678441      3.341515      4.458995   \n",
              "std       1.625356      0.920998      0.865039      1.711930      1.200172   \n",
              "min       0.000000      0.000000      0.000000      0.000000      0.000000   \n",
              "25%       3.000000      5.000000      5.000000      2.000000      5.000000   \n",
              "50%       5.000000      5.000000      5.000000      4.000000      5.000000   \n",
              "75%       5.000000      5.000000      5.000000      5.000000      5.000000   \n",
              "max       5.000000      5.000000      5.000000      5.000000      5.000000   \n",
              "\n",
              "               Q038          Q039          Q040         Q041  \n",
              "count  13730.000000  13730.000000  13730.000000  2938.000000  \n",
              "mean       3.724618      3.506409      4.442098     3.671545  \n",
              "std        1.689362      1.718858      1.181549     1.746444  \n",
              "min        0.000000      0.000000      0.000000     0.000000  \n",
              "25%        3.000000      2.000000      4.000000     3.000000  \n",
              "50%        5.000000      4.000000      5.000000     5.000000  \n",
              "75%        5.000000      5.000000      5.000000     5.000000  \n",
              "max        5.000000      5.000000      5.000000     5.000000  \n",
              "\n",
              "[8 rows x 107 columns]"
            ]
          },
          "metadata": {
            "tags": []
          },
          "execution_count": 5
        }
      ]
    },
    {
      "cell_type": "markdown",
      "metadata": {
        "id": "AeKHXRDMydxo"
      },
      "source": [
        "#description of the variable we want to predict"
      ]
    },
    {
      "cell_type": "code",
      "metadata": {
        "id": "Eys7xSCdydxp",
        "outputId": "163e2c40-a677-4447-ec72-93b54b3de214"
      },
      "source": [
        "df_train['NU_NOTA_MT'].describe()"
      ],
      "execution_count": null,
      "outputs": [
        {
          "output_type": "execute_result",
          "data": {
            "text/plain": [
              "count    10133.000000\n",
              "mean       482.497928\n",
              "std         99.826323\n",
              "min          0.000000\n",
              "25%        408.900000\n",
              "50%        461.200000\n",
              "75%        537.600000\n",
              "max        952.000000\n",
              "Name: NU_NOTA_MT, dtype: float64"
            ]
          },
          "metadata": {
            "tags": []
          },
          "execution_count": 6
        }
      ]
    },
    {
      "cell_type": "markdown",
      "metadata": {
        "id": "gcYLMIyKydxp"
      },
      "source": [
        "#distribution of notes"
      ]
    },
    {
      "cell_type": "code",
      "metadata": {
        "scrolled": true,
        "id": "R3XPTurDydxq",
        "outputId": "f3c940d9-85c2-429f-9e8c-3b1a4965d2da"
      },
      "source": [
        "sns.distplot(df_train['NU_NOTA_MT']);"
      ],
      "execution_count": null,
      "outputs": [
        {
          "output_type": "display_data",
          "data": {
            "image/png": "[encoded data removed]",
            "text/plain": [
              "<Figure size 432x288 with 1 Axes>"
            ]
          },
          "metadata": {
            "tags": [],
            "needs_background": "light"
          }
        }
      ]
    },
    {
      "cell_type": "markdown",
      "metadata": {
        "id": "0s_i6O8fydxq"
      },
      "source": [
        "#Asymmetry and Kurtosis"
      ]
    },
    {
      "cell_type": "code",
      "metadata": {
        "id": "CvBJRvEuydxr",
        "outputId": "c3ac23ef-c30a-428b-bda6-e12ba2e0a6f4"
      },
      "source": [
        "print(\"Skewness:%f\"% df_train['NU_NOTA_MT'].skew())\n",
        "print(\"Kurtosis:%f\"% df_train['NU_NOTA_MT'].kurt())"
      ],
      "execution_count": null,
      "outputs": [
        {
          "output_type": "stream",
          "text": [
            "Skewness:0.920690\n",
            "Kurtosis:1.422503\n"
          ],
          "name": "stdout"
        }
      ]
    },
    {
      "cell_type": "markdown",
      "metadata": {
        "id": "E9a8pp_rydxr"
      },
      "source": [
        "# In this analysis, we see in the histogram graph that the broth on the right side is longer, and the mean and mean will be greater than fashion\n",
        "# And according to the Skewness calculation, the data is moderately skewed\n",
        "# The Kurtosis data means that the extreme values ​​are lower than the normal distribution"
      ]
    },
    {
      "cell_type": "markdown",
      "metadata": {
        "id": "fkGuJslnydxs"
      },
      "source": [
        "#we will analyze the correlation of math notes with the other notes\n",
        "#Here I will select the variables that have the highest correlation with the variable \"NU_NOTA_MT\""
      ]
    },
    {
      "cell_type": "code",
      "metadata": {
        "id": "eBaR5mkJydxs",
        "outputId": "e82c87cc-c604-44b1-f8af-51afdc0c4df4"
      },
      "source": [
        "correlacoes = df_train.corr()\n",
        "features = correlacoes[(correlacoes['NU_NOTA_MT'] <= -0.3) | (correlacoes['NU_NOTA_MT'] >= 0.3) & (correlacoes['NU_NOTA_MT'] < 1.0)]['NU_NOTA_MT']\n",
        "features"
      ],
      "execution_count": null,
      "outputs": [
        {
          "output_type": "execute_result",
          "data": {
            "text/plain": [
              "TP_DEPENDENCIA_ADM_ESC    0.373233\n",
              "NU_NOTA_CN                0.584941\n",
              "NU_NOTA_CH                0.529594\n",
              "NU_NOTA_LC                0.494695\n",
              "NU_NOTA_COMP2             0.335638\n",
              "NU_NOTA_COMP3             0.350307\n",
              "NU_NOTA_COMP4             0.342282\n",
              "NU_NOTA_COMP5             0.343337\n",
              "NU_NOTA_REDACAO           0.379376\n",
              "Name: NU_NOTA_MT, dtype: float64"
            ]
          },
          "metadata": {
            "tags": []
          },
          "execution_count": 9
        }
      ]
    },
    {
      "cell_type": "markdown",
      "metadata": {
        "id": "ztkPaRT4ydxt"
      },
      "source": [
        "#For a positive correlation, the data will be positioned more to the upper right of the graph, as if they were \"rising\".\n",
        "#In a zero correlation or no data will be in the center of the figure and in a negative correlation the data will go in the left direction."
      ]
    },
    {
      "cell_type": "code",
      "metadata": {
        "scrolled": true,
        "id": "fjyFG_OUydxt",
        "outputId": "3cf02f20-9d40-41a1-c72f-9e1e0e72d46d"
      },
      "source": [
        "features_list = features.index.to_list()\n",
        "corr = df_train[features_list].corr()\n",
        "ax = plt.subplots(figsize=(11, 8))\n",
        "sns.heatmap(corr,  annot=True, annot_kws={\"size\": 10},cmap=\"YlGnBu\")"
      ],
      "execution_count": null,
      "outputs": [
        {
          "output_type": "execute_result",
          "data": {
            "text/plain": [
              "<matplotlib.axes._subplots.AxesSubplot at 0x2a311450748>"
            ]
          },
          "metadata": {
            "tags": []
          },
          "execution_count": 10
        },
        {
          "output_type": "display_data",
          "data": {
            "image/png": "[encoded data removed]",
            "text/plain": [
              "<Figure size 792x576 with 2 Axes>"
            ]
          },
          "metadata": {
            "tags": [],
            "needs_background": "light"
          }
        }
      ]
    },
    {
      "cell_type": "markdown",
      "metadata": {
        "id": "7MeN7PZhydxu"
      },
      "source": [
        "#we will check the number of missing variables"
      ]
    },
    {
      "cell_type": "code",
      "metadata": {
        "id": "Zj1QRQF4ydxu",
        "outputId": "41a1c76b-fbcd-4857-e8d4-f8a362ca64e2"
      },
      "source": [
        "df_train[features_list].isnull().sum()"
      ],
      "execution_count": null,
      "outputs": [
        {
          "output_type": "execute_result",
          "data": {
            "text/plain": [
              "TP_DEPENDENCIA_ADM_ESC    9448\n",
              "NU_NOTA_CN                3389\n",
              "NU_NOTA_CH                3389\n",
              "NU_NOTA_LC                3597\n",
              "NU_NOTA_COMP2             3597\n",
              "NU_NOTA_COMP3             3597\n",
              "NU_NOTA_COMP4             3597\n",
              "NU_NOTA_COMP5             3597\n",
              "NU_NOTA_REDACAO           3597\n",
              "dtype: int64"
            ]
          },
          "metadata": {
            "tags": []
          },
          "execution_count": 11
        }
      ]
    },
    {
      "cell_type": "code",
      "metadata": {
        "id": "is-YMwyYydxv",
        "outputId": "d82e6e76-aa29-4641-b755-79be9fe2b7fd"
      },
      "source": [
        "df_train['NU_NOTA_MT'].isnull().sum()"
      ],
      "execution_count": null,
      "outputs": [
        {
          "output_type": "execute_result",
          "data": {
            "text/plain": [
              "3597"
            ]
          },
          "metadata": {
            "tags": []
          },
          "execution_count": 12
        }
      ]
    },
    {
      "cell_type": "code",
      "metadata": {
        "id": "EGE5ufhTydxv"
      },
      "source": [
        "features_list.append('NU_NOTA_MT')"
      ],
      "execution_count": null,
      "outputs": []
    },
    {
      "cell_type": "code",
      "metadata": {
        "id": "OWR31zGOydxv"
      },
      "source": [
        "df1_train = df_train.copy()\n",
        "df1_test = df_test.copy()"
      ],
      "execution_count": null,
      "outputs": []
    },
    {
      "cell_type": "code",
      "metadata": {
        "id": "-DCaZxl2ydxw"
      },
      "source": [
        "def zeroFill(data):\n",
        "    for item in features_list:\n",
        "        data[item] = data[item].fillna(0)\n",
        "    return data"
      ],
      "execution_count": null,
      "outputs": []
    },
    {
      "cell_type": "code",
      "metadata": {
        "id": "8lY9gELJydxw"
      },
      "source": [
        "df1_train = zeroFill(df1_train)\n",
        "df1_test = df1_test.fillna(0)"
      ],
      "execution_count": null,
      "outputs": []
    },
    {
      "cell_type": "markdown",
      "metadata": {
        "id": "1RiijGHvydxw"
      },
      "source": [
        "#we will check the number of missing variables"
      ]
    },
    {
      "cell_type": "code",
      "metadata": {
        "id": "wdJ2UJyAydxx",
        "outputId": "d8937796-27fc-4895-c14c-dd5d50ceda40"
      },
      "source": [
        "df1_train[features_list].isnull().sum()"
      ],
      "execution_count": null,
      "outputs": [
        {
          "output_type": "execute_result",
          "data": {
            "text/plain": [
              "TP_DEPENDENCIA_ADM_ESC    0\n",
              "NU_NOTA_CN                0\n",
              "NU_NOTA_CH                0\n",
              "NU_NOTA_LC                0\n",
              "NU_NOTA_COMP2             0\n",
              "NU_NOTA_COMP3             0\n",
              "NU_NOTA_COMP4             0\n",
              "NU_NOTA_COMP5             0\n",
              "NU_NOTA_REDACAO           0\n",
              "NU_NOTA_MT                0\n",
              "dtype: int64"
            ]
          },
          "metadata": {
            "tags": []
          },
          "execution_count": 17
        }
      ]
    },
    {
      "cell_type": "markdown",
      "metadata": {
        "id": "BAwIB0Txydxx"
      },
      "source": [
        "# Removing the target variable"
      ]
    },
    {
      "cell_type": "code",
      "metadata": {
        "id": "o8S1fqnlydxx"
      },
      "source": [
        "features_list.remove('NU_NOTA_MT')"
      ],
      "execution_count": null,
      "outputs": []
    },
    {
      "cell_type": "markdown",
      "metadata": {
        "id": "YbdgXxAFydxy"
      },
      "source": [
        "#SEPARA VARIABLES TRAINING AND TESTING AND VARIABLE RESPONSE"
      ]
    },
    {
      "cell_type": "code",
      "metadata": {
        "id": "85zCfdKVydxy"
      },
      "source": [
        "x_train = df1_train[features_list]\n",
        "y_train = df1_train['NU_NOTA_MT']\n",
        "x_test = df1_test[features_list]"
      ],
      "execution_count": null,
      "outputs": []
    },
    {
      "cell_type": "markdown",
      "metadata": {
        "id": "Ia8i7Hnaydxy"
      },
      "source": [
        "# HERE WE'LL USE THE LINEAR REGRESSION MODEL"
      ]
    },
    {
      "cell_type": "code",
      "metadata": {
        "id": "d5nPsd4jydxz",
        "outputId": "e330f4c2-8203-4894-f992-a56906310b41"
      },
      "source": [
        "from sklearn.svm import LinearSVR\n",
        "modelo = LinearSVR()\n",
        "modelo.fit(x_train, y_train)"
      ],
      "execution_count": null,
      "outputs": [
        {
          "output_type": "stream",
          "text": [
            "C:\\Users\\Usuario\\anaconda3\\lib\\site-packages\\sklearn\\svm\\_base.py:947: ConvergenceWarning: Liblinear failed to converge, increase the number of iterations.\n",
            "  \"the number of iterations.\", ConvergenceWarning)\n"
          ],
          "name": "stderr"
        },
        {
          "output_type": "execute_result",
          "data": {
            "text/plain": [
              "LinearSVR(C=1.0, dual=True, epsilon=0.0, fit_intercept=True,\n",
              "          intercept_scaling=1.0, loss='epsilon_insensitive', max_iter=1000,\n",
              "          random_state=None, tol=0.0001, verbose=0)"
            ]
          },
          "metadata": {
            "tags": []
          },
          "execution_count": 21
        }
      ]
    },
    {
      "cell_type": "code",
      "metadata": {
        "id": "FrXnG_3hydxz",
        "outputId": "27c05488-cb59-437c-eb88-b4fba517ec3b"
      },
      "source": [
        "predicoes_notas_matematica = modelo.predict(x_test)\n",
        "predicoes_notas_matematica[:5]"
      ],
      "execution_count": null,
      "outputs": [
        {
          "output_type": "execute_result",
          "data": {
            "text/plain": [
              "array([5.28195429e+02, 6.35317593e+02, 6.82244490e+02, 1.22780132e-04,\n",
              "       6.53122492e+02])"
            ]
          },
          "metadata": {
            "tags": []
          },
          "execution_count": 22
        }
      ]
    },
    {
      "cell_type": "markdown",
      "metadata": {
        "id": "A3RxyVeEydx0"
      },
      "source": [
        "#NOW LET'S USE THE REGRESSION TREE MODEL"
      ]
    },
    {
      "cell_type": "code",
      "metadata": {
        "id": "HqV9L2abydx0"
      },
      "source": [
        "from sklearn.tree import DecisionTreeRegressor\n",
        "modelo = DecisionTreeRegressor()\n",
        "modelo.fit(x_train, y_train)\n",
        "predicoes_notas_matematica = modelo.predict(x_train)"
      ],
      "execution_count": null,
      "outputs": []
    }
  ]
}